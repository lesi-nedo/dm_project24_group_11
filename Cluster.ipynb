{
 "cells": [
  {
   "cell_type": "code",
   "execution_count": null,
   "metadata": {},
   "outputs": [],
   "source": [
    "from sklearn.cluster import KMeans\n",
    "import pandas as pd\n",
    "\n",
    "# Supponiamo di avere un DataFrame \"data\" con i dati da clusterizzare\n",
    "# K-means clustering con 3 cluster\n",
    "kmeans = KMeans(n_clusters=3, random_state=42)\n",
    "data['kmeans_cluster'] = kmeans.fit_predict(data)\n",
    "\n",
    "print(data[['kmeans_cluster']])  # Visualizza i cluster assegnati\n"
   ]
  },
  {
   "cell_type": "code",
   "execution_count": null,
   "metadata": {},
   "outputs": [],
   "source": [
    "from sklearn.cluster import DBSCAN\n",
    "\n",
    "# DBSCAN clustering con eps=0.5 e min_samples=5\n",
    "dbscan = DBSCAN(eps=0.5, min_samples=5)\n",
    "data['dbscan_cluster'] = dbscan.fit_predict(data)\n",
    "\n",
    "print(data[['dbscan_cluster']])  # Visualizza i cluster assegnati\n"
   ]
  },
  {
   "cell_type": "code",
   "execution_count": null,
   "metadata": {},
   "outputs": [],
   "source": [
    "from sklearn.cluster import AgglomerativeClustering\n",
    "\n",
    "# Agglomerative clustering con 3 cluster\n",
    "hierarchical = AgglomerativeClustering(n_clusters=3)\n",
    "data['hierarchical_cluster'] = hierarchical.fit_predict(data)\n",
    "\n",
    "print(data[['hierarchical_cluster']])  # Visualizza i cluster assegnati\n"
   ]
  }
 ],
 "metadata": {
  "kernelspec": {
   "display_name": "Python 3",
   "language": "python",
   "name": "python3"
  },
  "language_info": {
   "name": "python",
   "version": "3.11.0"
  }
 },
 "nbformat": 4,
 "nbformat_minor": 2
}
