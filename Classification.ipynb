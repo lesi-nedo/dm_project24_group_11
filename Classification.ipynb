{
 "cells": [
  {
   "cell_type": "code",
   "execution_count": 12,
   "metadata": {},
   "outputs": [
    {
     "name": "stdout",
     "output_type": "stream",
     "text": [
      "Counter({1: 93271, 0: 17061})\n"
     ]
    }
   ],
   "source": [
    "import pandas as pd\n",
    "from sklearn.model_selection import train_test_split\n",
    "\n",
    "# Caricamento del dataset\n",
    "train = pd.read_csv(\"dataset/DatasetClassification/TrainDataset20%.csv\")\n",
    "test = pd.read_csv(\"dataset/DatasetClassification/TestDataset20%.csv\")\n",
    "\n",
    "X_train = train[['points','uci_points','length','climb_total','profile','startlist_quality','position','cyclist_age','delta']]\n",
    "y_train = train['label']\n",
    "\n",
    "X_test = test[['points','uci_points','length','climb_total','profile','startlist_quality','position','cyclist_age','delta']]\n",
    "y_test = test['label']\n",
    "\n",
    "from collections import Counter\n",
    "print(Counter(y_train))\n",
    "\n"
   ]
  },
  {
   "cell_type": "code",
   "execution_count": 14,
   "metadata": {},
   "outputs": [],
   "source": [
    "import numpy as np\n",
    "from sklearn.utils.class_weight import compute_class_weight\n",
    "\n",
    "class_weights = dict(\n",
    "    zip(\n",
    "        np.array([0, 1]),  # Converti in array numpy\n",
    "        compute_class_weight(\n",
    "            class_weight='balanced', \n",
    "            classes=np.array([0, 1]),  # Assicurati che sia un numpy array\n",
    "            y=y_train\n",
    "        )\n",
    "    )\n",
    ")\n"
   ]
  },
  {
   "cell_type": "code",
   "execution_count": 16,
   "metadata": {},
   "outputs": [
    {
     "name": "stdout",
     "output_type": "stream",
     "text": [
      "{'n_estimators': 200, 'min_samples_split': 10, 'min_samples_leaf': 5, 'max_features': None, 'max_depth': None, 'class_weight': {0: 0.35, 1: 0.65}}\n"
     ]
    }
   ],
   "source": [
    "from sklearn.model_selection import RandomizedSearchCV\n",
    "\n",
    "param_distributions = {\n",
    "    'n_estimators': [50, 100, 200],\n",
    "    'max_depth': [4, 6, 8, None],\n",
    "    'max_features': ['sqrt', 'log2', None],\n",
    "    'min_samples_split': [2, 10, 20],\n",
    "    'min_samples_leaf': [1, 5, 10],\n",
    "    'class_weight': [None, {0: 0.35, 1: 0.65}]\n",
    "}\n",
    "\n",
    "random_search = RandomizedSearchCV(\n",
    "    RandomForestClassifier(random_state=42), \n",
    "    param_distributions, \n",
    "    n_iter=20, \n",
    "    scoring='f1_weighted', \n",
    "    cv=5,\n",
    "    random_state=42\n",
    ")\n",
    "random_search.fit(X_train, y_train)\n",
    "print(random_search.best_params_)\n"
   ]
  },
  {
   "cell_type": "code",
   "execution_count": 18,
   "metadata": {},
   "outputs": [
    {
     "name": "stdout",
     "output_type": "stream",
     "text": [
      "              precision    recall  f1-score   support\n",
      "\n",
      "        <=50       1.00      1.00      1.00       939\n",
      "         >50       1.00      1.00      1.00      6125\n",
      "\n",
      "    accuracy                           1.00      7064\n",
      "   macro avg       1.00      1.00      1.00      7064\n",
      "weighted avg       1.00      1.00      1.00      7064\n",
      "\n",
      "[[ 939    0]\n",
      " [   0 6125]]\n"
     ]
    }
   ],
   "source": [
    "from sklearn.metrics import classification_report, confusion_matrix\n",
    "from sklearn.ensemble import RandomForestClassifier\n",
    "from sklearn.metrics import classification_report\n",
    "\n",
    "# Definisci il modello\n",
    "rf = RandomForestClassifier(\n",
    "    n_estimators=30, \n",
    "    criterion='gini', \n",
    "    max_features=3, \n",
    "    max_depth=4, \n",
    "    min_samples_split=2, \n",
    "    min_samples_leaf=8, \n",
    "    bootstrap=True\n",
    ")\n",
    "\n",
    "# Addestra il modello sul set di training\n",
    "rf.fit(X_train, y_train)\n",
    "\n",
    "# Effettua le predizioni sul set di test\n",
    "test_pred_rf = rf.predict(X_test)\n",
    "\n",
    "# Stampa il report di classificazione\n",
    "print(classification_report(y_test, test_pred_rf, target_names=['<=50', '>50']))\n",
    "print(confusion_matrix(y_test, test_pred_rf))\n"
   ]
  },
  {
   "cell_type": "code",
   "execution_count": 20,
   "metadata": {},
   "outputs": [
    {
     "data": {
      "image/png": "[encoded data removed]",
      "text/plain": [
       "<Figure size 640x480 with 1 Axes>"
      ]
     },
     "metadata": {},
     "output_type": "display_data"
    },
    {
     "name": "stdout",
     "output_type": "stream",
     "text": [
      "AUC Precision-Recall: 1.0\n"
     ]
    }
   ],
   "source": [
    "from sklearn.metrics import precision_recall_curve, auc\n",
    "import matplotlib.pyplot as plt\n",
    "\n",
    "probs = rf.predict_proba(X_test)[:, 1]\n",
    "precision, recall, thresholds = precision_recall_curve(y_test, probs)\n",
    "\n",
    "plt.plot(recall, precision)\n",
    "plt.xlabel('Recall')\n",
    "plt.ylabel('Precision')\n",
    "plt.title('Precision-Recall Curve')\n",
    "plt.show()\n",
    "\n",
    "print('AUC Precision-Recall:', auc(recall, precision))\n"
   ]
  }
 ],
 "metadata": {
  "kernelspec": {
   "display_name": "Python 3.12",
   "language": "python",
   "name": "python312"
  },
  "language_info": {
   "codemirror_mode": {
    "name": "ipython",
    "version": 3
   },
   "file_extension": ".py",
   "mimetype": "text/x-python",
   "name": "python",
   "nbconvert_exporter": "python",
   "pygments_lexer": "ipython3",
   "version": "3.12.0"
  }
 },
 "nbformat": 4,
 "nbformat_minor": 2
}
