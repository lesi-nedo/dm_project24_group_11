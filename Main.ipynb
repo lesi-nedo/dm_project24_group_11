{
 "cells": [
  {
   "cell_type": "code",
   "execution_count": null,
   "metadata": {},
   "outputs": [],
   "source": [
    "#Library\n",
    "import pandas as pd\n",
    "\n",
    "import matplotlib.gridspec as gridspec\n",
    "import matplotlib.pyplot as plt\n",
    "\n",
    "import seaborn\n",
    "import numpy as np\n",
    "\n",
    "from sklearn.linear_model import LinearRegression\n",
    "from scipy.stats import multivariate_normal"
   ]
  },
  {
   "cell_type": "code",
   "execution_count": null,
   "metadata": {},
   "outputs": [],
   "source": [
    "#Dataset import on pandas Data frames\n",
    "DatasetCyclists = pd.read_csv(\"dataset/cyclists.csv\")\n",
    "DatasetRace = pd.read_csv(\"dataset/races.csv\")"
   ]
  },
  {
   "cell_type": "markdown",
   "metadata": {},
   "source": [
    "### Plot tools"
   ]
  },
  {
   "cell_type": "code",
   "execution_count": null,
   "metadata": {},
   "outputs": [],
   "source": [
    "def PlotMissingUsableData(Dataset, Name):\n",
    "    \n",
    "    PlotDataset = pd.DataFrame({\n",
    "        \"Elements\": list(Dataset.keys()),\n",
    "        \"Total values\": [Dataset.shape[0]]*len(list(Dataset.keys())),\n",
    "        \"Missing values\": list(Dataset.isnull().sum()),\n",
    "        \"Usable values\": list(Dataset.shape[0] - Dataset.isnull().sum())\n",
    "    })\n",
    "\n",
    "    PlotDataset.set_index('Elements', inplace=True)\n",
    "    PlotDataset.plot(kind='bar', figsize=(10, 6))\n",
    "    \n",
    "    print(PlotDataset)\n",
    "\n",
    "    plt.title(f'Dataset {Name} distribution')\n",
    "    plt.xlabel('Features')\n",
    "    plt.ylabel('Valori')\n",
    "    plt.show()"
   ]
  },
  {
   "cell_type": "code",
   "execution_count": null,
   "metadata": {},
   "outputs": [],
   "source": [
    "def PlotDistributionFeatures(Dataset, Features):\n",
    "    \n",
    "    PlotsLambda = [lambda f, ax: ax.hist(Dataset[f], bins = 10, alpha = 0.7, color = \"blue\")\n",
    "                   ]\n",
    "\n",
    "    fig = plt.figure(figsize = (3*len(PlotsLambda), 2*len(Features)))   #Altezza, larghezza\n",
    "    gs = gridspec.GridSpec(len(Features), len(PlotsLambda), figure=fig)\n",
    "      \n",
    "    i = 0\n",
    "\n",
    "    for feature in Features:\n",
    "        \n",
    "        \n",
    "        ax = fig.add_subplot(gs[i//len(PlotsLambda), i%len(PlotsLambda)])\n",
    "        ax.set_title(feature) \n",
    "        \n",
    "        for plot in PlotsLambda:    \n",
    "            plot(feature, ax)\n",
    "            \n",
    "            i += 1\n",
    "\n",
    "    plt.tight_layout()  # Per evitare sovrapposizioni\n",
    "    plt.show()\n",
    "    \n",
    "    Fs = []\n",
    "    i = 0\n",
    "    r = 4\n",
    "    \n",
    "\n",
    "    while(i+r < len(Features)):\n",
    "        Fs.append(Features[i: i+r])\n",
    "        i += r\n",
    "        \n",
    "    if(i < len(Features)-1): Fs.append(Features[i:])\n",
    "    \n",
    "    Dataset = (Dataset[Features] - Dataset[Features].mean()) / Dataset[Features].std()\n",
    "    \n",
    "    for fs in Fs:\n",
    "    \n",
    "        seaborn.boxenplot(Dataset[fs], orient=\"h\")\n",
    "        plt.show()\n",
    "        \n",
    "        seaborn.catplot(Dataset[fs], kind=\"box\") \n",
    "        plt.show()\n",
    "    "
   ]
  },
  {
   "cell_type": "markdown",
   "metadata": {},
   "source": [
    "# Data understanding"
   ]
  },
  {
   "cell_type": "markdown",
   "metadata": {},
   "source": [
    "## Dataset cyclists"
   ]
  },
  {
   "cell_type": "code",
   "execution_count": null,
   "metadata": {},
   "outputs": [],
   "source": [
    "PlotMissingUsableData(DatasetCyclists, \"Cyclists\")"
   ]
  },
  {
   "cell_type": "code",
   "execution_count": null,
   "metadata": {},
   "outputs": [],
   "source": [
    "InterestingFeatures = [\"birth_year\", \"weight\", \"height\"]\n",
    "\n",
    "PlotDistributionFeatures(DatasetCyclists, InterestingFeatures)"
   ]
  },
  {
   "cell_type": "markdown",
   "metadata": {},
   "source": [
    "## Dataset race"
   ]
  },
  {
   "cell_type": "code",
   "execution_count": null,
   "metadata": {},
   "outputs": [],
   "source": [
    "PlotMissingUsableData(DatasetRace, \"Race\")"
   ]
  },
  {
   "cell_type": "code",
   "execution_count": null,
   "metadata": {},
   "outputs": [],
   "source": [
    "InterestingFeatures = [\"points\", \"uci_points\", \"length\", \"climb_total\", \"profile\",\n",
    "                       \"startlist_quality\", \"average_temperature\", \"position\", \"cyclist_age\", \"delta\"]\n",
    "\n",
    "PlotDistributionFeatures(DatasetRace, InterestingFeatures)"
   ]
  },
  {
   "cell_type": "markdown",
   "metadata": {},
   "source": [
    "# Data transformation"
   ]
  },
  {
   "cell_type": "markdown",
   "metadata": {},
   "source": [
    "## Dataset cyclists"
   ]
  },
  {
   "cell_type": "markdown",
   "metadata": {},
   "source": [
    "## Dataset race"
   ]
  },
  {
   "cell_type": "markdown",
   "metadata": {},
   "source": [
    "## Total dataset"
   ]
  }
 ],
 "metadata": {
  "kernelspec": {
   "display_name": "Python 3",
   "language": "python",
   "name": "python3"
  },
  "language_info": {
   "name": "python",
   "version": "3.11.0"
  }
 },
 "nbformat": 4,
 "nbformat_minor": 2
}
