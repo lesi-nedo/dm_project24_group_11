{
 "cells": [
  {
   "cell_type": "markdown",
   "metadata": {},
   "source": [
    "# Librerie"
   ]
  },
  {
   "cell_type": "code",
   "execution_count": 13,
   "metadata": {},
   "outputs": [],
   "source": [
    "import pandas as pd\n",
    "\n",
    "import matplotlib.gridspec as gridspec\n",
    "import matplotlib.pyplot as plt\n",
    "\n",
    "import seaborn\n",
    "import numpy as np\n",
    "\n",
    "from sklearn.linear_model import LinearRegression\n",
    "from scipy.stats import multivariate_normal"
   ]
  },
  {
   "cell_type": "code",
   "execution_count": 14,
   "metadata": {},
   "outputs": [],
   "source": [
    "DatasetCyclists = pd.read_csv(\"dataset/cyclists.csv\")\n",
    "DatasetRace = pd.read_csv(\"dataset/races_filled.csv\")"
   ]
  },
  {
   "cell_type": "markdown",
   "metadata": {},
   "source": [
    "## Script schema plots"
   ]
  },
  {
   "cell_type": "code",
   "execution_count": 15,
   "metadata": {},
   "outputs": [],
   "source": [
    "def PlotMissingUsableData(Dataset, Name):\n",
    "    \n",
    "    PlotDataset = pd.DataFrame({\n",
    "        \"Elements\": list(Dataset.keys()),\n",
    "        \"Total values\": [Dataset.shape[0]]*len(list(Dataset.keys())),\n",
    "        \"Missing values\": list(Dataset.isnull().sum()),\n",
    "        \"Usable values\": list(Dataset.shape[0] - Dataset.isnull().sum())\n",
    "    })\n",
    "\n",
    "    PlotDataset.set_index('Elements', inplace=True)\n",
    "    PlotDataset.plot(kind='bar', figsize=(10, 6))\n",
    "    \n",
    "    print(PlotDataset)\n",
    "\n",
    "    plt.title(f'Dataset {Name} distribution')\n",
    "    plt.xlabel('Features')\n",
    "    plt.ylabel('Valori')\n",
    "    plt.show()"
   ]
  },
  {
   "cell_type": "code",
   "execution_count": 16,
   "metadata": {},
   "outputs": [],
   "source": [
    "def PlotDistributionFeatures(Dataset, Features):\n",
    "    \n",
    "    PlotsLambda = [lambda f, ax: ax.hist(Dataset[f], bins = 10, alpha = 0.7, color = \"blue\")\n",
    "                   ]\n",
    "\n",
    "    fig = plt.figure(figsize = (3*len(PlotsLambda), 2*len(Features)))   #Altezza, larghezza\n",
    "    gs = gridspec.GridSpec(len(Features), len(PlotsLambda), figure=fig)\n",
    "      \n",
    "    i = 0\n",
    "\n",
    "    for feature in Features:\n",
    "        \n",
    "        \n",
    "        ax = fig.add_subplot(gs[i//len(PlotsLambda), i%len(PlotsLambda)])\n",
    "        ax.set_title(feature) \n",
    "        \n",
    "        for plot in PlotsLambda:    \n",
    "            plot(feature, ax)\n",
    "            \n",
    "            i += 1\n",
    "\n",
    "    plt.tight_layout()  # Per evitare sovrapposizioni\n",
    "    plt.show()\n",
    "    \n",
    "    Fs = []\n",
    "    i = 0\n",
    "    r = 4\n",
    "    \n",
    "\n",
    "    while(i+r < len(Features)):\n",
    "        Fs.append(Features[i: i+r])\n",
    "        i += r\n",
    "        \n",
    "    if(i < len(Features)-1): Fs.append(Features[i:])\n",
    "    \n",
    "    Dataset = (Dataset[Features] - Dataset[Features].mean()) / Dataset[Features].std()\n",
    "    \n",
    "    for fs in Fs:\n",
    "    \n",
    "        seaborn.boxenplot(Dataset[fs], orient=\"h\")\n",
    "        plt.show()\n",
    "        \n",
    "        seaborn.catplot(Dataset[fs], kind=\"box\") \n",
    "        plt.show()\n",
    "    "
   ]
  },
  {
   "cell_type": "markdown",
   "metadata": {},
   "source": [
    "### Restore delta values (Race dataset)"
   ]
  },
  {
   "cell_type": "code",
   "execution_count": 17,
   "metadata": {},
   "outputs": [],
   "source": [
    "Races = [i[1] for i in DatasetRace.sort_values(by=[\"_url\", \"position\"]).groupby('_url')]\n",
    "\n",
    "for Race in Races:\n",
    "\n",
    "    # Creare una colonna per identificare dove i valori sono uguali o negativi rispetto al precedente\n",
    "    Race['Candidate'] = (Race['delta'].le(Race['delta'].shift().fillna(Race['delta'])) | (Race['delta'] < 0))\n",
    "\n",
    "    # Identificare le sotto-sequenze con un identificatore unico\n",
    "    Race['index_seq'] = (Race['Candidate'] == False).cumsum()\n",
    "    \n",
    "    Indexes = list(set(Race[\"index_seq\"]))\n",
    "    \n",
    "    for i in range(len(Indexes[:-1])):\n",
    "\n",
    "        if(Race[Race['index_seq'] == Indexes[i]].shape[0] > 4):\n",
    "            \n",
    "            PredictedValues = np.random.uniform(Race[Race[\"index_seq\"] == Indexes[i]].iloc[0][\"delta\"],\n",
    "                                  Race[Race[\"index_seq\"] == Indexes[i+1]].iloc[0][\"delta\"],\n",
    "                                  Race[Race[\"index_seq\"] == Indexes[i]][\"delta\"].count() - 1).astype(int)\n",
    "            \n",
    "            PredictedValues.sort()\n",
    "            \n",
    "            Race.loc[Race[Race[\"index_seq\"] == Indexes[i]].iloc[1:].index, \"delta\"] = PredictedValues\n",
    "            \n",
    "    PredictedValues = np.random.uniform(Race[Race[\"index_seq\"] == Indexes[-1]].iloc[0][\"delta\"],\n",
    "                                Race[Race[\"index_seq\"] == Indexes[-1]].iloc[0][\"delta\"] + 2*(Race[Race[\"index_seq\"] == Indexes[-1]][\"delta\"].count() - 1),\n",
    "                                Race[Race[\"index_seq\"] == Indexes[-1]][\"delta\"].count() - 1).astype(int)\n",
    "            \n",
    "    PredictedValues.sort()\n",
    "            \n",
    "    Race.loc[Race[Race[\"index_seq\"] == Indexes[-1]].iloc[1:].index, \"delta\"] = PredictedValues\n",
    "    \n",
    "    del Race[\"Candidate\"]\n",
    "    del Race[\"index_seq\"]\n"
   ]
  },
  {
   "cell_type": "markdown",
   "metadata": {},
   "source": [
    "### Fill weight and height value (cyclist dataset)"
   ]
  },
  {
   "cell_type": "code",
   "execution_count": 19,
   "metadata": {},
   "outputs": [],
   "source": [
    "TrainData = DatasetCyclists.dropna(subset=['weight', 'height'])\n",
    "\n",
    "#Predizione dei valori sulle righe dove height c'è e weight manca (regressore lineare) e viceversa (con un altro regressore lineare)\n",
    "HeightPredictor = LinearRegression()\n",
    "WeightPredictor = LinearRegression()\n",
    "\n",
    "#Allenamento dei regressori\n",
    "for _ in range(1):\n",
    "    HeightPredictor.fit(TrainData[['weight']], TrainData[['height']])\n",
    "    WeightPredictor.fit(TrainData[['height']], TrainData[['weight']])\n",
    "\n",
    "#Calcolo degl' indici dove andare a riempire i valori\n",
    "HeightSlot = DatasetCyclists[DatasetCyclists['height'].isna() & DatasetCyclists['weight'].notna()]\n",
    "WeightSlot = DatasetCyclists[DatasetCyclists['weight'].isna() & DatasetCyclists['height'].notna()]\n",
    "\n",
    "#Calcolo dei valori mancanti\n",
    "DatasetCyclists.loc[WeightSlot.index, 'weight'] = WeightPredictor.predict(WeightSlot[['height']])\n",
    "DatasetCyclists.loc[HeightSlot.index, 'height'] = HeightPredictor.predict(HeightSlot[['weight']])\n",
    "\n",
    "#Predizione dei valori sulle righe dove manca sia height che weight (distribuzione)\n",
    "ColumnsCleaned = DatasetCyclists[[\"weight\", \"height\"]].dropna()\n",
    "\n",
    "#Creazione della distribuzione multivariata (2 dimensioni)\n",
    "Distribution = multivariate_normal([ColumnsCleaned[\"weight\"].mean(), ColumnsCleaned[\"height\"].mean()],\n",
    "                                   np.cov(ColumnsCleaned[\"weight\"], ColumnsCleaned[\"height\"]))\n",
    "\n",
    "#Calcolo degl' indici dei valori missing\n",
    "MissingIndex = DatasetCyclists[DatasetCyclists[['weight', 'height']].isna().any(axis=1)].index\n",
    "\n",
    "#Riempimento dei valori mancanti con la distribuzione multivariata\n",
    "DatasetCyclists.loc[MissingIndex, ['weight', 'height']] = Distribution.rvs(size=len(MissingIndex))\n"
   ]
  },
  {
   "cell_type": "markdown",
   "metadata": {},
   "source": [
    "### Delete average_temperature feature (cyclist dataset)"
   ]
  },
  {
   "cell_type": "code",
   "execution_count": 21,
   "metadata": {},
   "outputs": [],
   "source": [
    "#Tolgo la feautres average_temperature\n",
    "del DatasetRace[\"average_temperature\"]"
   ]
  },
  {
   "cell_type": "markdown",
   "metadata": {},
   "source": [
    "### Fill birth_year (cyclist dataset)"
   ]
  },
  {
   "cell_type": "code",
   "execution_count": 23,
   "metadata": {},
   "outputs": [],
   "source": [
    "DatasetCyclists.loc[DatasetCyclists[\"_url\"] == \"scott-davies\", \"birth_year\"] = 1995\n",
    "DatasetCyclists.loc[DatasetCyclists[\"_url\"] == \"vladimir-malakov\", \"birth_year\"] = 1958\n",
    "DatasetCyclists.loc[DatasetCyclists[\"_url\"] == \"antonio-zanini\", \"birth_year\"] = 1965\n",
    "DatasetCyclists.loc[DatasetCyclists[\"_url\"] == \"filippo-simonetti\", \"birth_year\"] = 1971\n",
    "DatasetCyclists.loc[DatasetCyclists[\"_url\"] == \"carlos-garcia\", \"birth_year\"] = 1964\n",
    "DatasetCyclists.loc[DatasetCyclists[\"_url\"] == \"alexandr-osipov\", \"birth_year\"] = 1969\n",
    "DatasetCyclists.loc[DatasetCyclists[\"_url\"] == \"nicolai-kosyakov\", \"birth_year\"] = 1985\n",
    "DatasetCyclists.loc[DatasetCyclists[\"_url\"] == \"nevens-guy\", \"birth_year\"] = 1958\n",
    "DatasetCyclists.loc[DatasetCyclists[\"_url\"] == \"oscar-pumar\", \"birth_year\"] = 1970\n",
    "DatasetCyclists.loc[DatasetCyclists[\"_url\"] == \"javier-luquin\", \"birth_year\"] = 1963\n",
    "DatasetCyclists.loc[DatasetCyclists[\"_url\"] == \"thierry-lauder\", \"birth_year\"] = 1966\n",
    "DatasetCyclists.loc[DatasetCyclists[\"_url\"] == \"batik-odriozola\", \"birth_year\"] = 1970\n",
    "DatasetCyclists.loc[DatasetCyclists[\"_url\"] == \"sergei-jermachenko\", \"birth_year\"] = 1938"
   ]
  },
  {
   "cell_type": "markdown",
   "metadata": {},
   "source": [
    "### Fill nationality (cyclist dataset)"
   ]
  },
  {
   "cell_type": "code",
   "execution_count": 24,
   "metadata": {},
   "outputs": [],
   "source": [
    "ScottDavisIndex = DatasetCyclists[DatasetCyclists[\"nationality\"].isnull()].index[0]\n",
    "DatasetCyclists.loc[ScottDavisIndex, \"nationality\"] = \"Great Britain\""
   ]
  },
  {
   "cell_type": "markdown",
   "metadata": {},
   "source": [
    "# **Feature engineering**"
   ]
  },
  {
   "cell_type": "markdown",
   "metadata": {},
   "source": [
    "# Merge the datasets\n",
    "\n",
    "Si fa il merge delle tabelle in un unica tabella, prendendo come chiavi di riferimento la colonna \"_url\" del dataset cyclists e la colonna \"cyclists\" del dataset race."
   ]
  },
  {
   "cell_type": "code",
   "execution_count": 25,
   "metadata": {},
   "outputs": [
    {
     "name": "stdout",
     "output_type": "stream",
     "text": [
      "                   Total values  Missing values  Usable values\n",
      "Elements                                                      \n",
      "name_cyclist             586982               0         586982\n",
      "birth_year               586982               0         586982\n",
      "weight                   586982               0         586982\n",
      "height                   586982               0         586982\n",
      "nationality              586982               0         586982\n",
      "name_race                586982               0         586982\n",
      "points                   586982               0         586982\n",
      "uci_points               586982               0         586982\n",
      "length                   586982               0         586982\n",
      "climb_total              586982               0         586982\n",
      "profile                  586982               0         586982\n",
      "startlist_quality        586982               0         586982\n",
      "date                     586982               0         586982\n",
      "position                 586982               0         586982\n",
      "cyclist                  586982               0         586982\n",
      "cyclist_age              586982               0         586982\n",
      "is_tarmac                586982               0         586982\n",
      "is_cobbled               586982               0         586982\n",
      "is_gravel                586982               0         586982\n",
      "cyclist_team             586982          158706         428276\n",
      "delta                    586982               0         586982\n"
     ]
    },
    {
     "data": {
      "image/png": "[encoded data removed]",
      "text/plain": [
       "<Figure size 1000x600 with 1 Axes>"
      ]
     },
     "metadata": {},
     "output_type": "display_data"
    }
   ],
   "source": [
    "MergeDataset = pd.merge(DatasetCyclists, DatasetRace, left_on = \"_url\", right_on = \"cyclist\")\n",
    "\n",
    "del MergeDataset[\"name_x\"]\n",
    "del MergeDataset[\"name_y\"]\n",
    "\n",
    "MergeDataset.rename(columns = {\"_url_x\": \"name_cyclist\"}, inplace = True)\n",
    "MergeDataset.rename(columns = {\"_url_y\": \"name_race\"}, inplace = True)\n",
    "\n",
    "PlotMissingUsableData(MergeDataset, \"merged\")\n",
    "\n",
    "\n"
   ]
  },
  {
   "cell_type": "code",
   "execution_count": 32,
   "metadata": {},
   "outputs": [
    {
     "name": "stderr",
     "output_type": "stream",
     "text": [
      "C:\\Users\\Riccardo\\AppData\\Local\\Temp\\ipykernel_22104\\338195401.py:9: SettingWithCopyWarning: \n",
      "A value is trying to be set on a copy of a slice from a DataFrame.\n",
      "Try using .loc[row_indexer,col_indexer] = value instead\n",
      "\n",
      "See the caveats in the documentation: https://pandas.pydata.org/pandas-docs/stable/user_guide/indexing.html#returning-a-view-versus-a-copy\n",
      "  DatasetForClustering['kmeans_cluster'] = kmeans.fit_predict(DatasetForClustering[[\"weight\", \"height\"]])\n"
     ]
    },
    {
     "name": "stdout",
     "output_type": "stream",
     "text": [
      "                name_cyclist  birth_year  weight  height  nationality   \n",
      "kmeans_cluster                                                          \n",
      "0                       1345          66     200     186           54  \\\n",
      "1                        624          67     117     103           41   \n",
      "2                        851          68     149     141           54   \n",
      "\n",
      "                name_race  points  uci_points  length  climb_total  ...   \n",
      "kmeans_cluster                                                      ...   \n",
      "0                    5230      56         522    1275         3015  ...  \\\n",
      "1                    4930      56         408    1253         2941  ...   \n",
      "2                    5093      56         491    1271         2966  ...   \n",
      "\n",
      "                startlist_quality   date  position  cyclist  cyclist_age   \n",
      "kmeans_cluster                                                             \n",
      "0                             697  70631       206     1345          110  \\\n",
      "1                             692  36658       204      624          111   \n",
      "2                             692  53867       204      851          108   \n",
      "\n",
      "                is_tarmac  is_cobbled  is_gravel  cyclist_team  delta  \n",
      "kmeans_cluster                                                         \n",
      "0                       2           1          1            90   2554  \n",
      "1                       2           1          1            91   2429  \n",
      "2                       2           1          1            90   2418  \n",
      "\n",
      "[3 rows x 21 columns]\n"
     ]
    }
   ],
   "source": [
    "from sklearn.cluster import KMeans\n",
    "import pandas as pd\n",
    "\n",
    "DatasetForClustering = MergeDataset.dropna(subset=[\"cyclist_team\"])\n",
    "\n",
    "# Supponiamo di avere un DataFrame \"data\" con i dati da clusterizzare\n",
    "# K-means clustering con 3 cluster\n",
    "kmeans = KMeans(n_clusters=3, random_state=42)\n",
    "DatasetForClustering['kmeans_cluster'] = kmeans.fit_predict(DatasetForClustering[[\"weight\", \"height\"]])\n",
    "\n",
    "print(DatasetForClustering.groupby(\"kmeans_cluster\").nunique())  # Visualizza i cluster assegnati"
   ]
  }
 ],
 "metadata": {
  "kernelspec": {
   "display_name": "Python 3",
   "language": "python",
   "name": "python3"
  },
  "language_info": {
   "codemirror_mode": {
    "name": "ipython",
    "version": 3
   },
   "file_extension": ".py",
   "mimetype": "text/x-python",
   "name": "python",
   "nbconvert_exporter": "python",
   "pygments_lexer": "ipython3",
   "version": "3.11.0"
  }
 },
 "nbformat": 4,
 "nbformat_minor": 2
}
