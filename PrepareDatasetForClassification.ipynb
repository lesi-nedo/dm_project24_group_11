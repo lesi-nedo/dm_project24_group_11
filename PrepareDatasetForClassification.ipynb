{
 "cells": [
  {
   "cell_type": "code",
   "execution_count": 18,
   "metadata": {},
   "outputs": [
    {
     "name": "stdout",
     "output_type": "stream",
     "text": [
      "<class 'pandas.core.frame.DataFrame'>\n",
      "RangeIndex: 586982 entries, 0 to 586981\n",
      "Data columns (total 20 columns):\n",
      " #   Column               Non-Null Count   Dtype  \n",
      "---  ------               --------------   -----  \n",
      " 0   _url                 586982 non-null  object \n",
      " 1   name                 586982 non-null  object \n",
      " 2   points               586982 non-null  float64\n",
      " 3   uci_points           586982 non-null  float64\n",
      " 4   length               586982 non-null  float64\n",
      " 5   climb_total          586982 non-null  float64\n",
      " 6   profile              586982 non-null  float64\n",
      " 7   startlist_quality    586982 non-null  int64  \n",
      " 8   average_temperature  29861 non-null   float64\n",
      " 9   date                 586982 non-null  object \n",
      " 10  position             586982 non-null  int64  \n",
      " 11  cyclist              586982 non-null  object \n",
      " 12  cyclist_age          586982 non-null  float64\n",
      " 13  is_tarmac            586982 non-null  bool   \n",
      " 14  is_cobbled           586982 non-null  bool   \n",
      " 15  is_gravel            586982 non-null  bool   \n",
      " 16  cyclist_team         428276 non-null  object \n",
      " 17  delta                586982 non-null  float64\n",
      " 18  race_year            586982 non-null  int32  \n",
      " 19  label                586982 non-null  int32  \n",
      "dtypes: bool(3), float64(8), int32(2), int64(2), object(5)\n",
      "memory usage: 73.3+ MB\n",
      "None\n"
     ]
    }
   ],
   "source": [
    "import pandas as pd\n",
    "\n",
    "features_useless = [\"_url\", \"name\", \"average_temperature\", \"date\", \"cyclist\",\"is_tarmac\", \"is_cobbled\", \"is_gravel\", \"cyclist_team\", \"race_year\"]\n",
    "\n",
    "DatasetRace = pd.read_csv(\"dataset/races_filled.csv\")\n",
    "\n",
    "DatasetRace[\"race_year\"] = pd.to_datetime(DatasetRace[\"date\"], errors='coerce').dt.year\n",
    "\n",
    "DatasetRace[\"label\"] = (DatasetRace[\"position\"] >= 20).astype(int)\n",
    "\n",
    "train_dataset = DatasetRace[DatasetRace['race_year'] < 2022]\n",
    "test_dataset = DatasetRace[DatasetRace['race_year'] >= 2022]\n",
    "\n",
    "train_dataset = train_dataset.drop(features_useless, axis = 1)\n",
    "test_dataset = test_dataset.drop(features_useless, axis = 1)\n",
    "\n",
    "train_dataset.to_csv('DatasetClassification/TrainDataset.csv', index=False)\n",
    "test_dataset.to_csv('DatasetClassification/TestDataset.csv', index=False)"
   ]
  }
 ],
 "metadata": {
  "kernelspec": {
   "display_name": "Python 3",
   "language": "python",
   "name": "python3"
  },
  "language_info": {
   "codemirror_mode": {
    "name": "ipython",
    "version": 3
   },
   "file_extension": ".py",
   "mimetype": "text/x-python",
   "name": "python",
   "nbconvert_exporter": "python",
   "pygments_lexer": "ipython3",
   "version": "3.11.0"
  }
 },
 "nbformat": 4,
 "nbformat_minor": 2
}
