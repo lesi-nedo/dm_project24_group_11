{
 "cells": [
  {
   "cell_type": "code",
   "execution_count": 6,
   "metadata": {},
   "outputs": [],
   "source": [
    "import pandas as pd\n",
    "import numpy as np\n",
    "\n",
    "DatasetRace = pd.read_csv(\"dataset/races_filled.csv\")\n",
    "\n",
    "DatasetRace[\"race_year\"] = pd.to_datetime(DatasetRace[\"date\"], format='%Y', errors='coerce').dt.year\n",
    "\n",
    "DatasetRace[\"label\"] = (DatasetRace[\"race_year\"] >= 20).astype(int)\n",
    "\n",
    "train_dataset = DatasetRace[DatasetRace['race_year'] < 2022]\n",
    "test_dataset = DatasetRace[DatasetRace['race_year'] >= 2022]\n",
    "\n",
    "#test_dataset.to_csv('TestDataset.csv', index=False)\n",
    "#train_dataset.to_csv('TrainDataset.csv', index=False)"
   ]
  }
 ],
 "metadata": {
  "kernelspec": {
   "display_name": "Python 3",
   "language": "python",
   "name": "python3"
  },
  "language_info": {
   "codemirror_mode": {
    "name": "ipython",
    "version": 3
   },
   "file_extension": ".py",
   "mimetype": "text/x-python",
   "name": "python",
   "nbconvert_exporter": "python",
   "pygments_lexer": "ipython3",
   "version": "3.11.0"
  }
 },
 "nbformat": 4,
 "nbformat_minor": 2
}
