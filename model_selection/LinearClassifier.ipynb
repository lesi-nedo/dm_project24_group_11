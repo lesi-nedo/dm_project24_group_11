{
 "cells": [
  {
   "cell_type": "code",
   "execution_count": 37,
   "metadata": {
    "executionInfo": {
     "elapsed": 8,
     "status": "ok",
     "timestamp": 1735920679296,
     "user": {
      "displayName": "RICCARDO MARCACCIO",
      "userId": "01165784908117443471"
     },
     "user_tz": -60
    },
    "id": "4t6Hq0Mmuf9n"
   },
   "outputs": [],
   "source": [
    "import pandas as pd\n",
    "import shap\n",
    "from sklearn.model_selection import train_test_split\n",
    "from sklearn.linear_model import LogisticRegression\n",
    "from sklearn.metrics import accuracy_score, log_loss, roc_auc_score"
   ]
  },
  {
   "cell_type": "code",
   "execution_count": 41,
   "metadata": {
    "executionInfo": {
     "elapsed": 424,
     "status": "ok",
     "timestamp": 1735920679714,
     "user": {
      "displayName": "RICCARDO MARCACCIO",
      "userId": "01165784908117443471"
     },
     "user_tz": -60
    },
    "id": "U2usN_VBtpGL"
   },
   "outputs": [
    {
     "name": "stdout",
     "output_type": "stream",
     "text": [
      "Training dataset:\n",
      "Target 0: 84.5812498887841 %\n",
      "Target 1: 15.418750111215902 %\n",
      "\n",
      "Validation dataset:\n",
      "Target 0: 84.62298144935274 %\n",
      "Target 1: 15.37701855064727 %\n"
     ]
    }
   ],
   "source": [
    "def distribution(dataset):\n",
    "    \n",
    "    target0 = dataset[dataset == 0]\n",
    "    target1 = dataset[dataset == 1]\n",
    "    \n",
    "    print(f\"Target 0: {len(target0)/(len(target0) + len(target1)) * 100} %\")\n",
    "    print(f\"Target 1: {len(target1)/(len(target0) + len(target1)) * 100} %\")\n",
    "\n",
    "# Load datasets\n",
    "train_data = pd.read_csv(f'../dataset_classification/TrainDataset.csv')\n",
    "test_data = pd.read_csv(f'../dataset_classification/TestDataset.csv')\n",
    "\n",
    "#Clean TR from features\n",
    "x_train = train_data.drop(columns = [\"label\"])\n",
    "y_train = train_data[\"label\"]\n",
    "\n",
    "#Split TR in TR and VL with HoldOut technique\n",
    "x_train, x_val, y_train, y_val = train_test_split(x_train, y_train, test_size=0.2, random_state=42)\n",
    "\n",
    "#Clean TS from features\n",
    "x_test = test_data.drop(columns = [\"label\"])\n",
    "y_test = test_data[\"label\"]\n",
    "\n",
    "print(\"Training dataset:\")\n",
    "distribution(y_train)\n",
    "\n",
    "print(\"\\nValidation dataset:\")\n",
    "distribution(y_val)"
   ]
  },
  {
   "cell_type": "code",
   "execution_count": null,
   "metadata": {
    "colab": {
     "base_uri": "https://localhost:8080/",
     "height": 944
    },
    "executionInfo": {
     "elapsed": 72246,
     "status": "ok",
     "timestamp": 1735920751956,
     "user": {
      "displayName": "RICCARDO MARCACCIO",
      "userId": "01165784908117443471"
     },
     "user_tz": -60
    },
    "id": "_-hiWhyOqiij",
    "outputId": "1b890584-b87f-46bc-e341-e57731b0bb9e"
   },
   "outputs": [
    {
     "name": "stdout",
     "output_type": "stream",
     "text": [
      "Starting training for StackingClassifier with linear models...\n"
     ]
    },
    {
     "name": "stderr",
     "output_type": "stream",
     "text": [
      "[Parallel(n_jobs=1)]: Using backend SequentialBackend with 1 concurrent workers.\n",
      "c:\\Python311\\Lib\\site-packages\\sklearn\\linear_model\\_logistic.py:469: ConvergenceWarning: lbfgs failed to converge (status=1):\n",
      "STOP: TOTAL NO. of ITERATIONS REACHED LIMIT.\n",
      "\n",
      "Increase the number of iterations (max_iter) or scale the data as shown in:\n",
      "    https://scikit-learn.org/stable/modules/preprocessing.html\n",
      "Please also refer to the documentation for alternative solver options:\n",
      "    https://scikit-learn.org/stable/modules/linear_model.html#logistic-regression\n",
      "  n_iter_i = _check_optimize_result(\n",
      "[Parallel(n_jobs=1)]: Done   1 out of   1 | elapsed:   34.3s finished\n"
     ]
    },
    {
     "name": "stdout",
     "output_type": "stream",
     "text": [
      "Finished training.\n",
      "\n",
      "Final evaluation\n",
      "\n",
      "Train accuracy: 0.9268488531416268\n",
      "Validation accuracy: 0.9263757284576716\n",
      "Test accuracy: 0.9172082509183385\n",
      "\n",
      "Train Log-Loss: 0.2230080823906869\n",
      "Val Log-Loss: 0.22509681602205955\n",
      "Test Log-Loss: 0.26640582055453027\n",
      "\n",
      "Train AUC: 0.8988601840993277\n",
      "Val AUC: 0.8969422800112988\n",
      "Test AUC: 0.8309893728991411\n",
      "\n",
      "Starting SHAP analysis...\n"
     ]
    }
   ],
   "source": [
    "# Define model\n",
    "clf = LogisticRegression(verbose=1, max_iter=500, random_state=42)\n",
    "\n",
    "# Train model\n",
    "print(\"Starting training for StackingClassifier with linear models...\")\n",
    "clf.fit(x_train, y_train)\n",
    "print(\"Finished training.\")\n",
    "\n",
    "# Evaluate model\n",
    "print(\"\")\n",
    "print(\"Final evaluation\")\n",
    "print(\"\")\n",
    "\n",
    "train_accuracy = accuracy_score(y_train, clf.predict(x_train))\n",
    "val_accuracy = accuracy_score(y_val, clf.predict(x_val))\n",
    "test_accuracy = accuracy_score(y_test, clf.predict(x_test))\n",
    "\n",
    "print(f\"Train accuracy: {train_accuracy}\")\n",
    "print(f\"Validation accuracy: {val_accuracy}\")\n",
    "print(f\"Test accuracy: {test_accuracy}\")\n",
    "print(\"\")\n",
    "\n",
    "# Calculate log-loss\n",
    "train_y_proba = clf.predict_proba(x_train)\n",
    "val_y_proba = clf.predict_proba(x_val)\n",
    "test_y_proba = clf.predict_proba(x_test)\n",
    "\n",
    "train_loss = log_loss(y_train, train_y_proba)\n",
    "val_loss = log_loss(y_val, val_y_proba)\n",
    "test_loss = log_loss(y_test, test_y_proba)\n",
    "\n",
    "print(f\"Train Log-Loss: {train_loss}\")\n",
    "print(f\"Val Log-Loss: {val_loss}\")\n",
    "print(f\"Test Log-Loss: {test_loss}\")\n",
    "print(\"\")\n",
    "\n",
    "# Calculate AUC\n",
    "train_auc = roc_auc_score(y_train, train_y_proba[:, 1])\n",
    "val_auc = roc_auc_score(y_val, val_y_proba[:, 1])\n",
    "test_auc = roc_auc_score(y_test, test_y_proba[:, 1])\n",
    "\n",
    "print(f\"Train AUC: {train_auc}\")\n",
    "print(f\"Val AUC: {val_auc}\")\n",
    "print(f\"Test AUC: {test_auc}\")\n",
    "print(\"\")\n",
    "\n",
    "# SHAP Integration -------------------------------------------------------------------\n",
    "print(\"Starting SHAP analysis...\")\n",
    "\n",
    "# Apply SHAP to model\n",
    "explainer = shap.Explainer(clf, x_train)\n",
    "shap_values = explainer(x_train)\n",
    "\n",
    "# Visualize SHAP analysis to model\n",
    "shap.summary_plot(shap_values, x_train)\n",
    "\n",
    "print(\"Finished SHAP analysis.\")"
   ]
  }
 ],
 "metadata": {
  "colab": {
   "authorship_tag": "ABX9TyPF2axEJ77IY9Plt5fBLECD",
   "provenance": []
  },
  "kernelspec": {
   "display_name": "Python 3",
   "name": "python3"
  },
  "language_info": {
   "codemirror_mode": {
    "name": "ipython",
    "version": 3
   },
   "file_extension": ".py",
   "mimetype": "text/x-python",
   "name": "python",
   "nbconvert_exporter": "python",
   "pygments_lexer": "ipython3",
   "version": "3.11.0"
  }
 },
 "nbformat": 4,
 "nbformat_minor": 0
}
