{
 "cells": [
  {
   "cell_type": "code",
   "execution_count": 15,
   "metadata": {
    "executionInfo": {
     "elapsed": 4654,
     "status": "ok",
     "timestamp": 1735925624067,
     "user": {
      "displayName": "RICCARDO MARCACCIO",
      "userId": "01165784908117443471"
     },
     "user_tz": -60
    },
    "id": "4t6Hq0Mmuf9n"
   },
   "outputs": [],
   "source": [
    "import pandas as pd\n",
    "import shap\n",
    "from sklearn.ensemble import StackingClassifier\n",
    "from sklearn.linear_model import LogisticRegression, RidgeClassifier, SGDClassifier, PassiveAggressiveClassifier\n",
    "from sklearn.metrics import accuracy_score, log_loss, roc_auc_score\n",
    "from sklearn.model_selection import train_test_split"
   ]
  },
  {
   "cell_type": "code",
   "execution_count": 16,
   "metadata": {
    "executionInfo": {
     "elapsed": 1120,
     "status": "ok",
     "timestamp": 1735925625183,
     "user": {
      "displayName": "RICCARDO MARCACCIO",
      "userId": "01165784908117443471"
     },
     "user_tz": -60
    },
    "id": "U2usN_VBtpGL"
   },
   "outputs": [
    {
     "name": "stdout",
     "output_type": "stream",
     "text": [
      "Training dataset:\n",
      "Target 0: 15.418750111215902 %\n",
      "Target 1: 84.5812498887841 %\n",
      "\n",
      "Validation dataset:\n",
      "Target 0: 15.37701855064727 %\n",
      "Target 1: 84.62298144935274 %\n"
     ]
    }
   ],
   "source": [
    "def distribution(dataset):\n",
    "    \n",
    "    target0 = dataset[dataset == 0]\n",
    "    target1 = dataset[dataset == 1]\n",
    "    \n",
    "    print(f\"Target 0: {len(target0)/(len(target0) + len(target1)) * 100} %\")\n",
    "    print(f\"Target 1: {len(target1)/(len(target0) + len(target1)) * 100} %\")\n",
    "\n",
    "# Load datasets\n",
    "train_data = pd.read_csv(f'../dataset_classification/TrainDataset.csv')\n",
    "test_data = pd.read_csv(f'../dataset_classification/TestDataset.csv')\n",
    "\n",
    "#Clean TR from features\n",
    "x_train = train_data.drop(columns = [\"label\"])\n",
    "y_train = train_data[\"label\"]\n",
    "\n",
    "#Split TR in TR and VL with HoldOut technique\n",
    "x_train, x_val, y_train, y_val = train_test_split(x_train, y_train, test_size=0.2, random_state=42)\n",
    "\n",
    "#Clean TS from features\n",
    "x_test = test_data.drop(columns = [\"label\"])\n",
    "y_test = test_data[\"label\"]\n",
    "\n",
    "print(\"Training dataset:\")\n",
    "distribution(y_train)\n",
    "\n",
    "print(\"\\nValidation dataset:\")\n",
    "distribution(y_val)"
   ]
  },
  {
   "cell_type": "code",
   "execution_count": null,
   "metadata": {
    "colab": {
     "base_uri": "https://localhost:8080/",
     "height": 1000
    },
    "executionInfo": {
     "elapsed": 248225,
     "status": "ok",
     "timestamp": 1735927195243,
     "user": {
      "displayName": "RICCARDO MARCACCIO",
      "userId": "01165784908117443471"
     },
     "user_tz": -60
    },
    "id": "_-hiWhyOqiij",
    "outputId": "337acd00-1f85-4d4c-c8c3-f5450bca86c2"
   },
   "outputs": [
    {
     "name": "stdout",
     "output_type": "stream",
     "text": [
      "Starting training for StackingClassifier with linear models...\n"
     ]
    }
   ],
   "source": [
    "# Define base classifier\n",
    "base_estimators = [\n",
    "    ('logistic', LogisticRegression(max_iter=500, random_state=42)),\n",
    "    ('ridge', RidgeClassifier(max_iter=500, random_state=42)),\n",
    "    ('sgd', SGDClassifier(max_iter=500, tol=1e-3, random_state=42)),\n",
    "    ('passive_aggressive', PassiveAggressiveClassifier(max_iter=500, tol=1e-3, random_state=42))\n",
    "]\n",
    "\n",
    "# Define meta classifier\n",
    "meta_clf = LogisticRegression(max_iter=500, random_state=42)\n",
    "\n",
    "# Create model\n",
    "stacking_clf = StackingClassifier(\n",
    "    estimators=base_estimators,\n",
    "    final_estimator=meta_clf,\n",
    "    n_jobs=-1\n",
    ")\n",
    "\n",
    "# Train model\n",
    "print(\"Starting training for StackingClassifier with linear models...\")\n",
    "stacking_clf.fit(x_train, y_train)\n",
    "print(\"Finished training.\")\n",
    "\n",
    "# Evaluate model\n",
    "print(\"\")\n",
    "print(\"Final evaluation\")\n",
    "print(\"\")\n",
    "\n",
    "train_accuracy = accuracy_score(y_train, stacking_clf.predict(x_train))\n",
    "val_accuracy = accuracy_score(y_val, stacking_clf.predict(x_val))\n",
    "test_accuracy = accuracy_score(y_test, stacking_clf.predict(x_test))\n",
    "\n",
    "print(f\"Train accuracy: {train_accuracy}\")\n",
    "print(f\"Validation accuracy: {val_accuracy}\")\n",
    "print(f\"Test accuracy: {test_accuracy}\")\n",
    "print(\"\")\n",
    "\n",
    "# Calculate log-loss\n",
    "train_y_proba = stacking_clf.predict_proba(x_train)\n",
    "val_y_proba = stacking_clf.predict_proba(x_val)\n",
    "test_y_proba = stacking_clf.predict_proba(x_test)\n",
    "\n",
    "train_loss = log_loss(y_train, train_y_proba)\n",
    "val_loss = log_loss(y_val, val_y_proba)\n",
    "test_loss = log_loss(y_test, test_y_proba)\n",
    "\n",
    "print(f\"Train Log-Loss: {train_loss}\")\n",
    "print(f\"Val Log-Loss: {val_loss}\")\n",
    "print(f\"Test Log-Loss: {test_loss}\")\n",
    "print(\"\")\n",
    "\n",
    "# Calculate AUC\n",
    "train_auc = roc_auc_score(y_train, train_y_proba[:, 1])\n",
    "val_auc = roc_auc_score(y_val, val_y_proba[:, 1])\n",
    "test_auc = roc_auc_score(y_test, test_y_proba[:, 1])\n",
    "\n",
    "print(f\"Train AUC: {train_auc}\")\n",
    "print(f\"Val AUC: {val_auc}\")\n",
    "print(f\"Test AUC: {test_auc}\")\n",
    "print(\"\")\n",
    "\n",
    "# SHAP Integration -------------------------------------------------------------------\n",
    "print(\"Starting SHAP analysis...\")\n",
    "\n",
    "# Apply SHAP analysis to meta classifier\n",
    "x_meta_train = stacking_clf.transform(x_train)\n",
    "explainer = shap.Explainer(stacking_clf.final_estimator_, x_meta_train)\n",
    "shap_values = explainer(x_meta_train)\n",
    "\n",
    "# Visualize SHAP analyze to meta classifier\n",
    "shap.summary_plot(shap_values, x_meta_train)\n",
    "\n",
    "print(\"Finished SHAP analysis.\")\n",
    "\n",
    "print(\"Starting SHAP analysis (foreach model)...\")\n",
    "\n",
    "for model in stacking_clf.estimators_:\n",
    "    \n",
    "    # Apply SHAP analysis to base classifier\n",
    "    explainer = shap.Explainer(model, x_train)\n",
    "    shap_values = explainer(x_train)\n",
    "    \n",
    "    # Visualize SHAP analyze to base classifier\n",
    "    shap.summary_plot(shap_values, x_train)"
   ]
  }
 ],
 "metadata": {
  "colab": {
   "authorship_tag": "ABX9TyOEjCW7d+1RG8d0uNHdfYMs",
   "provenance": []
  },
  "kernelspec": {
   "display_name": "Python 3",
   "name": "python3"
  },
  "language_info": {
   "codemirror_mode": {
    "name": "ipython",
    "version": 3
   },
   "file_extension": ".py",
   "mimetype": "text/x-python",
   "name": "python",
   "nbconvert_exporter": "python",
   "pygments_lexer": "ipython3",
   "version": "3.11.0"
  }
 },
 "nbformat": 4,
 "nbformat_minor": 0
}
