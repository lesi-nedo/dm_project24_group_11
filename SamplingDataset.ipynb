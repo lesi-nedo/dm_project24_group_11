import pandas as pd
from sklearn.model_selection import train_test_split

# Carica i dataset originali
train_data = pd.read_csv('dataset/DatasetClassification/TrainDataset.csv')
test_data = pd.read_csv('dataset/DatasetClassification/TestDataset.csv')

# Loop per generare campioni con diverse percentuali
target_column = 'label' 

for i in range(1, 11):
    Perc = i / 10

    # Campionamento stratificato per il dataset di training
    stratified_train, _ = train_test_split(
        train_data, test_size=(1 - Perc), stratify=train_data[target_column], random_state=42
    )

    # Campionamento stratificato per il dataset di test
    stratified_test, _ = train_test_split(
        test_data, test_size=(1 - Perc), stratify=test_data[target_column], random_state=42
    )

    # Stampa delle dimensioni
    print(f"Percentuale: {int(Perc * 100)}%")
    print("-" * 100)
    print("Train size:", len(stratified_train))
    print("Test size:", len(stratified_test))

    # Salvataggio dei file
    stratified_train.to_csv(f"dataset/DatasetClassification/TrainDataset{int(Perc * 100)}%.csv", index=False)
    stratified_test.to_csv(f"dataset/DatasetClassification/TestDataset{int(Perc * 100)}%.csv", index=False)
