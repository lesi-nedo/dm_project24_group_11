{
 "cells": [
  {
   "cell_type": "code",
   "execution_count": 2,
   "id": "6e569e28",
   "metadata": {},
   "outputs": [
    {
     "name": "stdout",
     "output_type": "stream",
     "text": [
      "Percentuale: 10%\n",
      "----------------------------------------------------------------------------------------------------\n",
      "Train size: 55166\n",
      "Test size: 3532\n",
      "Percentuale: 20%\n",
      "----------------------------------------------------------------------------------------------------\n",
      "Train size: 110332\n",
      "Test size: 7064\n",
      "Percentuale: 30%\n",
      "----------------------------------------------------------------------------------------------------\n",
      "Train size: 165498\n",
      "Test size: 10596\n",
      "Percentuale: 40%\n",
      "----------------------------------------------------------------------------------------------------\n",
      "Train size: 220664\n",
      "Test size: 14128\n",
      "Percentuale: 50%\n",
      "----------------------------------------------------------------------------------------------------\n",
      "Train size: 275831\n",
      "Test size: 17660\n",
      "Percentuale: 60%\n",
      "----------------------------------------------------------------------------------------------------\n",
      "Train size: 330997\n",
      "Test size: 21192\n",
      "Percentuale: 70%\n",
      "----------------------------------------------------------------------------------------------------\n",
      "Train size: 386163\n",
      "Test size: 24723\n",
      "Percentuale: 80%\n",
      "----------------------------------------------------------------------------------------------------\n",
      "Train size: 441329\n",
      "Test size: 28256\n",
      "Percentuale: 90%\n",
      "----------------------------------------------------------------------------------------------------\n",
      "Train size: 496495\n",
      "Test size: 31788\n"
     ]
    }
   ],
   "source": [
    "import pandas as pd\n",
    "from sklearn.model_selection import train_test_split\n",
    "\n",
    "# Carica i dataset originali\n",
    "train_data = pd.read_csv('dataset/DatasetClassification/TrainDataset.csv')\n",
    "test_data = pd.read_csv('dataset/DatasetClassification/TestDataset.csv')\n",
    "\n",
    "# Loop per generare campioni con diverse percentuali\n",
    "target_column = 'label' \n",
    "\n",
    "for i in range(1, 10):\n",
    "    Perc = i / 10\n",
    "\n",
    "    # Campionamento stratificato per il dataset di training\n",
    "    stratified_train, _ = train_test_split(\n",
    "        train_data, test_size=(1 - Perc), stratify=train_data[target_column], random_state=42\n",
    "    )\n",
    "\n",
    "    # Campionamento stratificato per il dataset di test\n",
    "    stratified_test, _ = train_test_split(\n",
    "        test_data, test_size=(1 - Perc), stratify=test_data[target_column], random_state=42\n",
    "    )\n",
    "\n",
    "    # Stampa delle dimensioni\n",
    "    print(f\"Percentuale: {int(Perc * 100)}%\")\n",
    "    print(\"-\" * 100)\n",
    "    print(\"Train size:\", len(stratified_train))\n",
    "    print(\"Test size:\", len(stratified_test))\n",
    "\n",
    "    # Salvataggio dei file\n",
    "    stratified_train.to_csv(f\"dataset/DatasetClassification/TrainDataset{int(Perc * 100)}%.csv\", index=False)\n",
    "    stratified_test.to_csv(f\"dataset/DatasetClassification/TestDataset{int(Perc * 100)}%.csv\", index=False)\n"
   ]
  },
  {
   "cell_type": "code",
   "execution_count": null,
   "id": "d5e79f0c",
   "metadata": {},
   "outputs": [],
   "source": []
  }
 ],
 "metadata": {
  "kernelspec": {
   "display_name": "Python 3",
   "language": "python",
   "name": "python3"
  },
  "language_info": {
   "codemirror_mode": {
    "name": "ipython",
    "version": 3
   },
   "file_extension": ".py",
   "mimetype": "text/x-python",
   "name": "python",
   "nbconvert_exporter": "python",
   "pygments_lexer": "ipython3",
   "version": "3.12.0"
  }
 },
 "nbformat": 4,
 "nbformat_minor": 5
}
